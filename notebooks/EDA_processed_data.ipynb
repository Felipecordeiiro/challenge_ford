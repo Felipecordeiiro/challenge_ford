{
 "cells": [
  {
   "cell_type": "code",
   "execution_count": 4,
   "metadata": {},
   "outputs": [
    {
     "ename": "ColumnNotFoundError",
     "evalue": "\"severity\" not found",
     "output_type": "error",
     "traceback": [
      "\u001b[1;31m---------------------------------------------------------------------------\u001b[0m",
      "\u001b[1;31mColumnNotFoundError\u001b[0m                       Traceback (most recent call last)",
      "Cell \u001b[1;32mIn[4], line 11\u001b[0m\n\u001b[0;32m      8\u001b[0m df \u001b[38;5;241m=\u001b[39m pl\u001b[38;5;241m.\u001b[39mread_csv(\u001b[38;5;124m\"\u001b[39m\u001b[38;5;124mD:\u001b[39m\u001b[38;5;130;01m\\\\\u001b[39;00m\u001b[38;5;124mArea de trabalho\u001b[39m\u001b[38;5;130;01m\\\\\u001b[39;00m\u001b[38;5;124mFaculdade\u001b[39m\u001b[38;5;130;01m\\\\\u001b[39;00m\u001b[38;5;124mchallenges\u001b[39m\u001b[38;5;130;01m\\\\\u001b[39;00m\u001b[38;5;124mFORD-desafio-NLP\u001b[39m\u001b[38;5;130;01m\\\\\u001b[39;00m\u001b[38;5;124mdata\u001b[39m\u001b[38;5;130;01m\\\\\u001b[39;00m\u001b[38;5;124mraw\u001b[39m\u001b[38;5;130;01m\\\\\u001b[39;00m\u001b[38;5;124m2014.csv\u001b[39m\u001b[38;5;124m\"\u001b[39m)\n\u001b[0;32m     10\u001b[0m \u001b[38;5;66;03m# Verificar a distribuição das classes de severidade\u001b[39;00m\n\u001b[1;32m---> 11\u001b[0m severity_distribution \u001b[38;5;241m=\u001b[39m \u001b[43mdf\u001b[49m\u001b[43m[\u001b[49m\u001b[38;5;124;43m'\u001b[39;49m\u001b[38;5;124;43mseverity\u001b[39;49m\u001b[38;5;124;43m'\u001b[39;49m\u001b[43m]\u001b[49m\u001b[38;5;241m.\u001b[39mvalue_counts(normalize\u001b[38;5;241m=\u001b[39m\u001b[38;5;28;01mTrue\u001b[39;00m)\n\u001b[0;32m     13\u001b[0m \u001b[38;5;66;03m# Exibir a distribuição dos rótulos\u001b[39;00m\n\u001b[0;32m     14\u001b[0m severity_distribution\n",
      "File \u001b[1;32md:\\Area de trabalho\\Faculdade\\challenges\\FORD-desafio-NLP\\.venv\\Lib\\site-packages\\polars\\dataframe\\frame.py:1376\u001b[0m, in \u001b[0;36mDataFrame.__getitem__\u001b[1;34m(self, key)\u001b[0m\n\u001b[0;32m   1239\u001b[0m \u001b[38;5;28;01mdef\u001b[39;00m\u001b[38;5;250m \u001b[39m\u001b[38;5;21m__getitem__\u001b[39m(\n\u001b[0;32m   1240\u001b[0m     \u001b[38;5;28mself\u001b[39m,\n\u001b[0;32m   1241\u001b[0m     key: (\n\u001b[1;32m   (...)\u001b[0m\n\u001b[0;32m   1250\u001b[0m     ),\n\u001b[0;32m   1251\u001b[0m ) \u001b[38;5;241m-\u001b[39m\u001b[38;5;241m>\u001b[39m DataFrame \u001b[38;5;241m|\u001b[39m Series \u001b[38;5;241m|\u001b[39m Any:\n\u001b[0;32m   1252\u001b[0m \u001b[38;5;250m    \u001b[39m\u001b[38;5;124;03m\"\"\"\u001b[39;00m\n\u001b[0;32m   1253\u001b[0m \u001b[38;5;124;03m    Get part of the DataFrame as a new DataFrame, Series, or scalar.\u001b[39;00m\n\u001b[0;32m   1254\u001b[0m \n\u001b[1;32m   (...)\u001b[0m\n\u001b[0;32m   1374\u001b[0m \u001b[38;5;124;03m    └─────┴─────┴─────┘\u001b[39;00m\n\u001b[0;32m   1375\u001b[0m \u001b[38;5;124;03m    \"\"\"\u001b[39;00m\n\u001b[1;32m-> 1376\u001b[0m     \u001b[38;5;28;01mreturn\u001b[39;00m \u001b[43mget_df_item_by_key\u001b[49m\u001b[43m(\u001b[49m\u001b[38;5;28;43mself\u001b[39;49m\u001b[43m,\u001b[49m\u001b[43m \u001b[49m\u001b[43mkey\u001b[49m\u001b[43m)\u001b[49m\n",
      "File \u001b[1;32md:\\Area de trabalho\\Faculdade\\challenges\\FORD-desafio-NLP\\.venv\\Lib\\site-packages\\polars\\_utils\\getitem.py:163\u001b[0m, in \u001b[0;36mget_df_item_by_key\u001b[1;34m(df, key)\u001b[0m\n\u001b[0;32m    159\u001b[0m \u001b[38;5;66;03m# Single string input, e.g. df[\"a\"]\u001b[39;00m\n\u001b[0;32m    160\u001b[0m \u001b[38;5;28;01mif\u001b[39;00m \u001b[38;5;28misinstance\u001b[39m(key, \u001b[38;5;28mstr\u001b[39m):\n\u001b[0;32m    161\u001b[0m     \u001b[38;5;66;03m# This case is required because empty strings are otherwise treated\u001b[39;00m\n\u001b[0;32m    162\u001b[0m     \u001b[38;5;66;03m# as an empty Sequence in `_select_rows`\u001b[39;00m\n\u001b[1;32m--> 163\u001b[0m     \u001b[38;5;28;01mreturn\u001b[39;00m \u001b[43mdf\u001b[49m\u001b[38;5;241;43m.\u001b[39;49m\u001b[43mget_column\u001b[49m\u001b[43m(\u001b[49m\u001b[43mkey\u001b[49m\u001b[43m)\u001b[49m\n\u001b[0;32m    165\u001b[0m \u001b[38;5;66;03m# Single input - df[1] - or multiple inputs - df[\"a\", \"b\", \"c\"]\u001b[39;00m\n\u001b[0;32m    166\u001b[0m \u001b[38;5;28;01mtry\u001b[39;00m:\n",
      "File \u001b[1;32md:\\Area de trabalho\\Faculdade\\challenges\\FORD-desafio-NLP\\.venv\\Lib\\site-packages\\polars\\dataframe\\frame.py:8304\u001b[0m, in \u001b[0;36mDataFrame.get_column\u001b[1;34m(self, name, default)\u001b[0m\n\u001b[0;32m   8257\u001b[0m \u001b[38;5;250m\u001b[39m\u001b[38;5;124;03m\"\"\"\u001b[39;00m\n\u001b[0;32m   8258\u001b[0m \u001b[38;5;124;03mGet a single column by name.\u001b[39;00m\n\u001b[0;32m   8259\u001b[0m \n\u001b[1;32m   (...)\u001b[0m\n\u001b[0;32m   8301\u001b[0m \u001b[38;5;124;03mTrue\u001b[39;00m\n\u001b[0;32m   8302\u001b[0m \u001b[38;5;124;03m\"\"\"\u001b[39;00m\n\u001b[0;32m   8303\u001b[0m \u001b[38;5;28;01mtry\u001b[39;00m:\n\u001b[1;32m-> 8304\u001b[0m     \u001b[38;5;28;01mreturn\u001b[39;00m wrap_s(\u001b[38;5;28;43mself\u001b[39;49m\u001b[38;5;241;43m.\u001b[39;49m\u001b[43m_df\u001b[49m\u001b[38;5;241;43m.\u001b[39;49m\u001b[43mget_column\u001b[49m\u001b[43m(\u001b[49m\u001b[43mname\u001b[49m\u001b[43m)\u001b[49m)\n\u001b[0;32m   8305\u001b[0m \u001b[38;5;28;01mexcept\u001b[39;00m ColumnNotFoundError:\n\u001b[0;32m   8306\u001b[0m     \u001b[38;5;28;01mif\u001b[39;00m default \u001b[38;5;129;01mis\u001b[39;00m no_default:\n",
      "\u001b[1;31mColumnNotFoundError\u001b[0m: \"severity\" not found"
     ]
    }
   ],
   "source": [
    "import polars as pl\n",
    "import numpy as np\n",
    "import sys\n",
    "import os\n",
    "\n",
    "#sys.path.append(os.getcwd())\n",
    "\n",
    "df = pl.read_csv(\"D:\\\\Area de trabalho\\\\Faculdade\\\\challenges\\\\FORD-desafio-NLP\\\\data\\\\raw\\\\2014.csv\")\n",
    "\n",
    "# Verificar a distribuição das classes de severidade\n",
    "severity_distribution = df['severity'].value_counts(normalize=True)\n",
    "\n",
    "# Exibir a distribuição dos rótulos\n",
    "severity_distribution"
   ]
  }
 ],
 "metadata": {
  "kernelspec": {
   "display_name": ".venv",
   "language": "python",
   "name": "python3"
  },
  "language_info": {
   "codemirror_mode": {
    "name": "ipython",
    "version": 3
   },
   "file_extension": ".py",
   "mimetype": "text/x-python",
   "name": "python",
   "nbconvert_exporter": "python",
   "pygments_lexer": "ipython3",
   "version": "3.11.10"
  }
 },
 "nbformat": 4,
 "nbformat_minor": 2
}
